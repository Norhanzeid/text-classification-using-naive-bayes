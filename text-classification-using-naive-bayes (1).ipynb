{
 "cells": [
  {
   "cell_type": "code",
   "execution_count": 1,
   "id": "b54e9377",
   "metadata": {
    "execution": {
     "iopub.execute_input": "2021-11-29T07:49:38.963687Z",
     "iopub.status.busy": "2021-11-29T07:49:38.960159Z",
     "iopub.status.idle": "2021-11-29T07:49:41.131600Z",
     "shell.execute_reply": "2021-11-29T07:49:41.132185Z",
     "shell.execute_reply.started": "2021-11-29T07:36:41.090948Z"
    },
    "papermill": {
     "duration": 2.210999,
     "end_time": "2021-11-29T07:49:41.132501",
     "exception": false,
     "start_time": "2021-11-29T07:49:38.921502",
     "status": "completed"
    },
    "tags": []
   },
   "outputs": [],
   "source": [
    "from itertools import chain\n",
    "\n",
    "import matplotlib.pyplot as plt\n",
    "\n",
    "import nltk\n",
    "nltk.download('stopwords', quiet=True)\n",
    "# nltk.download('punkt', quiet=True)\n",
    "from nltk.corpus import stopwords\n",
    "from nltk.tokenize import word_tokenize\n",
    "\n",
    "import numpy as np\n",
    "import pandas as pd\n",
    "\n",
    "import seaborn as sns\n",
    "\n",
    "from sklearn import feature_extraction\n",
    "from sklearn.metrics import confusion_matrix\n",
    "from sklearn import model_selection as ms\n",
    "from sklearn import naive_bayes\n",
    "from sklearn import preprocessing\n",
    "from sklearn.metrics import confusion_matrix\n",
    "\n",
    "import string"
   ]
  },
  {
   "cell_type": "code",
   "execution_count": 2,
   "id": "fc8b1ef3",
   "metadata": {
    "execution": {
     "iopub.execute_input": "2021-11-29T07:49:41.258236Z",
     "iopub.status.busy": "2021-11-29T07:49:41.257500Z",
     "iopub.status.idle": "2021-11-29T07:49:41.508358Z",
     "shell.execute_reply": "2021-11-29T07:49:41.507786Z",
     "shell.execute_reply.started": "2021-11-29T07:36:43.302227Z"
    },
    "papermill": {
     "duration": 0.282907,
     "end_time": "2021-11-29T07:49:41.508500",
     "exception": false,
     "start_time": "2021-11-29T07:49:41.225593",
     "status": "completed"
    },
    "tags": []
   },
   "outputs": [
    {
     "data": {
      "text/html": [
       "<div>\n",
       "<style scoped>\n",
       "    .dataframe tbody tr th:only-of-type {\n",
       "        vertical-align: middle;\n",
       "    }\n",
       "\n",
       "    .dataframe tbody tr th {\n",
       "        vertical-align: top;\n",
       "    }\n",
       "\n",
       "    .dataframe thead th {\n",
       "        text-align: right;\n",
       "    }\n",
       "</style>\n",
       "<table border=\"1\" class=\"dataframe\">\n",
       "  <thead>\n",
       "    <tr style=\"text-align: right;\">\n",
       "      <th></th>\n",
       "      <th>Unnamed: 0</th>\n",
       "      <th>website_url</th>\n",
       "      <th>cleaned_website_text</th>\n",
       "      <th>Category</th>\n",
       "    </tr>\n",
       "  </thead>\n",
       "  <tbody>\n",
       "    <tr>\n",
       "      <th>0</th>\n",
       "      <td>0</td>\n",
       "      <td>https://www.booking.com/index.html?aid=1743217</td>\n",
       "      <td>official site good hotel accommodation big sav...</td>\n",
       "      <td>Travel</td>\n",
       "    </tr>\n",
       "    <tr>\n",
       "      <th>1</th>\n",
       "      <td>1</td>\n",
       "      <td>https://travelsites.com/expedia/</td>\n",
       "      <td>expedia hotel book sites like use vacation wor...</td>\n",
       "      <td>Travel</td>\n",
       "    </tr>\n",
       "    <tr>\n",
       "      <th>2</th>\n",
       "      <td>2</td>\n",
       "      <td>https://travelsites.com/tripadvisor/</td>\n",
       "      <td>tripadvisor hotel book sites like previously d...</td>\n",
       "      <td>Travel</td>\n",
       "    </tr>\n",
       "    <tr>\n",
       "      <th>3</th>\n",
       "      <td>3</td>\n",
       "      <td>https://www.momondo.in/?ispredir=true</td>\n",
       "      <td>cheap flights search compare flights momondo f...</td>\n",
       "      <td>Travel</td>\n",
       "    </tr>\n",
       "    <tr>\n",
       "      <th>4</th>\n",
       "      <td>4</td>\n",
       "      <td>https://www.ebookers.com/?AFFCID=EBOOKERS-UK.n...</td>\n",
       "      <td>bot create free account create free account si...</td>\n",
       "      <td>Travel</td>\n",
       "    </tr>\n",
       "  </tbody>\n",
       "</table>\n",
       "</div>"
      ],
      "text/plain": [
       "   Unnamed: 0                                        website_url  \\\n",
       "0           0     https://www.booking.com/index.html?aid=1743217   \n",
       "1           1                   https://travelsites.com/expedia/   \n",
       "2           2               https://travelsites.com/tripadvisor/   \n",
       "3           3              https://www.momondo.in/?ispredir=true   \n",
       "4           4  https://www.ebookers.com/?AFFCID=EBOOKERS-UK.n...   \n",
       "\n",
       "                                cleaned_website_text Category  \n",
       "0  official site good hotel accommodation big sav...   Travel  \n",
       "1  expedia hotel book sites like use vacation wor...   Travel  \n",
       "2  tripadvisor hotel book sites like previously d...   Travel  \n",
       "3  cheap flights search compare flights momondo f...   Travel  \n",
       "4  bot create free account create free account si...   Travel  "
      ]
     },
     "execution_count": 2,
     "metadata": {},
     "output_type": "execute_result"
    }
   ],
   "source": [
    "text_df = pd.read_csv('website_classification.csv')\n",
    "text_df.head(5)"
   ]
  },
  {
   "cell_type": "code",
   "execution_count": 3,
   "id": "72bf2afc",
   "metadata": {
    "execution": {
     "iopub.execute_input": "2021-11-29T07:49:41.642255Z",
     "iopub.status.busy": "2021-11-29T07:49:41.629406Z",
     "iopub.status.idle": "2021-11-29T07:49:41.646099Z",
     "shell.execute_reply": "2021-11-29T07:49:41.645517Z",
     "shell.execute_reply.started": "2021-11-29T07:36:43.588432Z"
    },
    "papermill": {
     "duration": 0.049023,
     "end_time": "2021-11-29T07:49:41.646255",
     "exception": false,
     "start_time": "2021-11-29T07:49:41.597232",
     "status": "completed"
    },
    "tags": []
   },
   "outputs": [
    {
     "data": {
      "text/html": [
       "<div>\n",
       "<style scoped>\n",
       "    .dataframe tbody tr th:only-of-type {\n",
       "        vertical-align: middle;\n",
       "    }\n",
       "\n",
       "    .dataframe tbody tr th {\n",
       "        vertical-align: top;\n",
       "    }\n",
       "\n",
       "    .dataframe thead th {\n",
       "        text-align: right;\n",
       "    }\n",
       "</style>\n",
       "<table border=\"1\" class=\"dataframe\">\n",
       "  <thead>\n",
       "    <tr style=\"text-align: right;\">\n",
       "      <th></th>\n",
       "      <th>cleaned_website_text</th>\n",
       "      <th>Category</th>\n",
       "    </tr>\n",
       "  </thead>\n",
       "  <tbody>\n",
       "    <tr>\n",
       "      <th>0</th>\n",
       "      <td>official site good hotel accommodation big sav...</td>\n",
       "      <td>Travel</td>\n",
       "    </tr>\n",
       "    <tr>\n",
       "      <th>1</th>\n",
       "      <td>expedia hotel book sites like use vacation wor...</td>\n",
       "      <td>Travel</td>\n",
       "    </tr>\n",
       "    <tr>\n",
       "      <th>2</th>\n",
       "      <td>tripadvisor hotel book sites like previously d...</td>\n",
       "      <td>Travel</td>\n",
       "    </tr>\n",
       "    <tr>\n",
       "      <th>3</th>\n",
       "      <td>cheap flights search compare flights momondo f...</td>\n",
       "      <td>Travel</td>\n",
       "    </tr>\n",
       "    <tr>\n",
       "      <th>4</th>\n",
       "      <td>bot create free account create free account si...</td>\n",
       "      <td>Travel</td>\n",
       "    </tr>\n",
       "  </tbody>\n",
       "</table>\n",
       "</div>"
      ],
      "text/plain": [
       "                                cleaned_website_text Category\n",
       "0  official site good hotel accommodation big sav...   Travel\n",
       "1  expedia hotel book sites like use vacation wor...   Travel\n",
       "2  tripadvisor hotel book sites like previously d...   Travel\n",
       "3  cheap flights search compare flights momondo f...   Travel\n",
       "4  bot create free account create free account si...   Travel"
      ]
     },
     "execution_count": 3,
     "metadata": {},
     "output_type": "execute_result"
    }
   ],
   "source": [
    "del text_df['Unnamed: 0'], text_df['website_url']\n",
    "text_df.head(5)"
   ]
  },
  {
   "cell_type": "code",
   "execution_count": 4,
   "id": "cc7d1294",
   "metadata": {
    "execution": {
     "iopub.execute_input": "2021-11-29T07:49:41.775579Z",
     "iopub.status.busy": "2021-11-29T07:49:41.774750Z",
     "iopub.status.idle": "2021-11-29T07:49:41.778067Z",
     "shell.execute_reply": "2021-11-29T07:49:41.778558Z",
     "shell.execute_reply.started": "2021-11-29T07:36:43.605817Z"
    },
    "papermill": {
     "duration": 0.041515,
     "end_time": "2021-11-29T07:49:41.778727",
     "exception": false,
     "start_time": "2021-11-29T07:49:41.737212",
     "status": "completed"
    },
    "tags": []
   },
   "outputs": [
    {
     "data": {
      "text/plain": [
       "['Travel',\n",
       " 'Social Networking and Messaging',\n",
       " 'News',\n",
       " 'Streaming Services',\n",
       " 'Sports',\n",
       " 'Photography',\n",
       " 'Law and Government',\n",
       " 'Health and Fitness',\n",
       " 'Games',\n",
       " 'E-Commerce',\n",
       " 'Forums',\n",
       " 'Food',\n",
       " 'Education',\n",
       " 'Computers and Technology',\n",
       " 'Business/Corporate',\n",
       " 'Adult']"
      ]
     },
     "execution_count": 4,
     "metadata": {},
     "output_type": "execute_result"
    }
   ],
   "source": [
    "categories = list(text_df['Category'].unique())\n",
    "categories"
   ]
  },
  {
   "cell_type": "code",
   "execution_count": 5,
   "id": "19e3854b",
   "metadata": {
    "execution": {
     "iopub.execute_input": "2021-11-29T07:49:41.845888Z",
     "iopub.status.busy": "2021-11-29T07:49:41.845149Z",
     "iopub.status.idle": "2021-11-29T07:49:41.847827Z",
     "shell.execute_reply": "2021-11-29T07:49:41.848317Z",
     "shell.execute_reply.started": "2021-11-29T07:36:43.620694Z"
    },
    "papermill": {
     "duration": 0.038903,
     "end_time": "2021-11-29T07:49:41.848504",
     "exception": false,
     "start_time": "2021-11-29T07:49:41.809601",
     "status": "completed"
    },
    "tags": []
   },
   "outputs": [
    {
     "data": {
      "text/plain": [
       "(1408, 2)"
      ]
     },
     "execution_count": 5,
     "metadata": {},
     "output_type": "execute_result"
    }
   ],
   "source": [
    "text_df.shape"
   ]
  },
  {
   "cell_type": "code",
   "execution_count": 6,
   "id": "b3968664",
   "metadata": {
    "execution": {
     "iopub.execute_input": "2021-11-29T07:49:41.979179Z",
     "iopub.status.busy": "2021-11-29T07:49:41.978280Z",
     "iopub.status.idle": "2021-11-29T07:49:42.007013Z",
     "shell.execute_reply": "2021-11-29T07:49:42.007564Z",
     "shell.execute_reply.started": "2021-11-29T07:36:43.632065Z"
    },
    "papermill": {
     "duration": 0.063508,
     "end_time": "2021-11-29T07:49:42.007753",
     "exception": false,
     "start_time": "2021-11-29T07:49:41.944245",
     "status": "completed"
    },
    "tags": []
   },
   "outputs": [
    {
     "data": {
      "text/plain": [
       "1375"
      ]
     },
     "execution_count": 6,
     "metadata": {},
     "output_type": "execute_result"
    }
   ],
   "source": [
    "cleaned_website_text = list(text_df['cleaned_website_text'].unique())\n",
    "len(cleaned_website_text)"
   ]
  },
  {
   "cell_type": "code",
   "execution_count": 7,
   "id": "ee8f7464",
   "metadata": {
    "execution": {
     "iopub.execute_input": "2021-11-29T07:49:42.203183Z",
     "iopub.status.busy": "2021-11-29T07:49:42.199148Z",
     "iopub.status.idle": "2021-11-29T07:49:42.209120Z",
     "shell.execute_reply": "2021-11-29T07:49:42.209578Z",
     "shell.execute_reply.started": "2021-11-29T07:36:43.667501Z"
    },
    "papermill": {
     "duration": 0.044913,
     "end_time": "2021-11-29T07:49:42.209772",
     "exception": false,
     "start_time": "2021-11-29T07:49:42.164859",
     "status": "completed"
    },
    "tags": []
   },
   "outputs": [
    {
     "data": {
      "text/plain": [
       "Education                          114\n",
       "Business/Corporate                 109\n",
       "Travel                             107\n",
       "Streaming Services                 105\n",
       "Sports                             104\n",
       "E-Commerce                         102\n",
       "Games                               98\n",
       "News                                96\n",
       "Health and Fitness                  96\n",
       "Photography                         93\n",
       "Computers and Technology            93\n",
       "Food                                92\n",
       "Law and Government                  84\n",
       "Social Networking and Messaging     83\n",
       "Forums                              16\n",
       "Adult                               16\n",
       "Name: Category, dtype: int64"
      ]
     },
     "execution_count": 7,
     "metadata": {},
     "output_type": "execute_result"
    }
   ],
   "source": [
    "text_df['Category'].value_counts()"
   ]
  },
  {
   "cell_type": "code",
   "execution_count": 8,
   "id": "2adb9294",
   "metadata": {
    "execution": {
     "iopub.execute_input": "2021-11-29T07:49:42.342949Z",
     "iopub.status.busy": "2021-11-29T07:49:42.341910Z",
     "iopub.status.idle": "2021-11-29T07:49:42.379435Z",
     "shell.execute_reply": "2021-11-29T07:49:42.380035Z",
     "shell.execute_reply.started": "2021-11-29T07:36:43.678413Z"
    },
    "papermill": {
     "duration": 0.073624,
     "end_time": "2021-11-29T07:49:42.380245",
     "exception": false,
     "start_time": "2021-11-29T07:49:42.306621",
     "status": "completed"
    },
    "tags": []
   },
   "outputs": [],
   "source": [
    "cat_unique_val = {}\n",
    "\n",
    "for category in categories:\n",
    "    mask = text_df['Category'] == category\n",
    "    list_length = len(list(text_df[mask]['cleaned_website_text'].unique()))\n",
    "    cat_unique_val.update({category: list_length})\n",
    "\n",
    "    cat_unique_val"
   ]
  },
  {
   "cell_type": "code",
   "execution_count": 9,
   "id": "af4b3a57",
   "metadata": {
    "execution": {
     "iopub.execute_input": "2021-11-29T07:49:42.510494Z",
     "iopub.status.busy": "2021-11-29T07:49:42.509449Z",
     "iopub.status.idle": "2021-11-29T07:49:42.516454Z",
     "shell.execute_reply": "2021-11-29T07:49:42.517037Z",
     "shell.execute_reply.started": "2021-11-29T07:36:43.721627Z"
    },
    "papermill": {
     "duration": 0.041971,
     "end_time": "2021-11-29T07:49:42.517215",
     "exception": false,
     "start_time": "2021-11-29T07:49:42.475244",
     "status": "completed"
    },
    "tags": []
   },
   "outputs": [
    {
     "data": {
      "text/plain": [
       "{'Education': 114,\n",
       " 'Business/Corporate': 108,\n",
       " 'Travel': 106,\n",
       " 'Streaming Services': 104,\n",
       " 'E-Commerce': 101,\n",
       " 'Sports': 100,\n",
       " 'Games': 98,\n",
       " 'Food': 92,\n",
       " 'News': 92,\n",
       " 'Computers and Technology': 90,\n",
       " 'Health and Fitness': 89,\n",
       " 'Photography': 87,\n",
       " 'Law and Government': 83,\n",
       " 'Social Networking and Messaging': 79,\n",
       " 'Adult': 16,\n",
       " 'Forums': 16}"
      ]
     },
     "execution_count": 9,
     "metadata": {},
     "output_type": "execute_result"
    }
   ],
   "source": [
    "cat_unique_val_sorted = {}\n",
    "sorted_keys = sorted(cat_unique_val, key=cat_unique_val.get)\n",
    "\n",
    "for w in list(reversed(sorted_keys)):\n",
    "    cat_unique_val_sorted[w] = cat_unique_val[w]\n",
    "    \n",
    "# cat_unique_val_sorted\n",
    "cat_unique_val_sorted"
   ]
  },
  {
   "cell_type": "code",
   "execution_count": 10,
   "id": "2d284953",
   "metadata": {
    "execution": {
     "iopub.execute_input": "2021-11-29T07:49:42.648923Z",
     "iopub.status.busy": "2021-11-29T07:49:42.646412Z",
     "iopub.status.idle": "2021-11-29T07:49:42.670702Z",
     "shell.execute_reply": "2021-11-29T07:49:42.671306Z",
     "shell.execute_reply.started": "2021-11-29T07:36:43.732174Z"
    },
    "papermill": {
     "duration": 0.059226,
     "end_time": "2021-11-29T07:49:42.671511",
     "exception": false,
     "start_time": "2021-11-29T07:49:42.612285",
     "status": "completed"
    },
    "tags": []
   },
   "outputs": [],
   "source": [
    "text_df = text_df.drop_duplicates()"
   ]
  },
  {
   "cell_type": "code",
   "execution_count": 11,
   "id": "c6354e60",
   "metadata": {
    "execution": {
     "iopub.execute_input": "2021-11-29T07:49:42.744811Z",
     "iopub.status.busy": "2021-11-29T07:49:42.743885Z",
     "iopub.status.idle": "2021-11-29T07:49:42.747196Z",
     "shell.execute_reply": "2021-11-29T07:49:42.747681Z",
     "shell.execute_reply.started": "2021-11-29T07:36:43.761509Z"
    },
    "papermill": {
     "duration": 0.043015,
     "end_time": "2021-11-29T07:49:42.747868",
     "exception": false,
     "start_time": "2021-11-29T07:49:42.704853",
     "status": "completed"
    },
    "tags": []
   },
   "outputs": [
    {
     "data": {
      "text/plain": [
       "(1375, 2)"
      ]
     },
     "execution_count": 11,
     "metadata": {},
     "output_type": "execute_result"
    }
   ],
   "source": [
    "text_df.shape"
   ]
  },
  {
   "cell_type": "markdown",
   "id": "0a34c54f",
   "metadata": {
    "papermill": {
     "duration": 0.032377,
     "end_time": "2021-11-29T07:49:42.812235",
     "exception": false,
     "start_time": "2021-11-29T07:49:42.779858",
     "status": "completed"
    },
    "tags": []
   },
   "source": [
    "<h3>Text cleaning</h3>"
   ]
  },
  {
   "cell_type": "markdown",
   "id": "1c9808a5",
   "metadata": {
    "papermill": {
     "duration": 0.03156,
     "end_time": "2021-11-29T07:49:42.876926",
     "exception": false,
     "start_time": "2021-11-29T07:49:42.845366",
     "status": "completed"
    },
    "tags": []
   },
   "source": [
    "<p>Removing stopwords and punctuation from <B><I>\"cleaned_website_text\" column</I></B></p>"
   ]
  },
  {
   "cell_type": "code",
   "execution_count": 12,
   "id": "0c1747df",
   "metadata": {
    "execution": {
     "iopub.execute_input": "2021-11-29T07:49:42.944425Z",
     "iopub.status.busy": "2021-11-29T07:49:42.943419Z",
     "iopub.status.idle": "2021-11-29T07:49:42.949975Z",
     "shell.execute_reply": "2021-11-29T07:49:42.950499Z",
     "shell.execute_reply.started": "2021-11-29T07:36:43.768723Z"
    },
    "papermill": {
     "duration": 0.041931,
     "end_time": "2021-11-29T07:49:42.950693",
     "exception": false,
     "start_time": "2021-11-29T07:49:42.908762",
     "status": "completed"
    },
    "tags": []
   },
   "outputs": [],
   "source": [
    "stop_words = set(stopwords.words('english'))"
   ]
  },
  {
   "cell_type": "code",
   "execution_count": 13,
   "id": "897f8734",
   "metadata": {
    "execution": {
     "iopub.execute_input": "2021-11-29T07:49:43.021558Z",
     "iopub.status.busy": "2021-11-29T07:49:43.020438Z",
     "iopub.status.idle": "2021-11-29T07:49:43.022812Z",
     "shell.execute_reply": "2021-11-29T07:49:43.023284Z",
     "shell.execute_reply.started": "2021-11-29T07:36:43.784171Z"
    },
    "papermill": {
     "duration": 0.039427,
     "end_time": "2021-11-29T07:49:43.023463",
     "exception": false,
     "start_time": "2021-11-29T07:49:42.984036",
     "status": "completed"
    },
    "tags": []
   },
   "outputs": [],
   "source": [
    "regular_punct = list(string.punctuation)"
   ]
  },
  {
   "cell_type": "code",
   "execution_count": 14,
   "id": "43056066",
   "metadata": {
    "execution": {
     "iopub.execute_input": "2021-11-29T07:49:43.160932Z",
     "iopub.status.busy": "2021-11-29T07:49:43.160054Z",
     "iopub.status.idle": "2021-11-29T07:49:43.163361Z",
     "shell.execute_reply": "2021-11-29T07:49:43.163876Z",
     "shell.execute_reply.started": "2021-11-29T07:36:43.791053Z"
    },
    "papermill": {
     "duration": 0.04377,
     "end_time": "2021-11-29T07:49:43.164060",
     "exception": false,
     "start_time": "2021-11-29T07:49:43.120290",
     "status": "completed"
    },
    "tags": []
   },
   "outputs": [
    {
     "data": {
      "text/plain": [
       "0       official site good hotel accommodation big sav...\n",
       "1       expedia hotel book sites like use vacation wor...\n",
       "2       tripadvisor hotel book sites like previously d...\n",
       "3       cheap flights search compare flights momondo f...\n",
       "4       bot create free account create free account si...\n",
       "                              ...                        \n",
       "1403    old nude women porn mature granny sex horny ol...\n",
       "1404    bdsm cams bdsm chat bondage cams free bdsm vid...\n",
       "1405    porno dvd online european porn dvd cheap adult...\n",
       "1406    anal dream house anal dream house anal dream h...\n",
       "1407    world sex news daily sex news adult news eroti...\n",
       "Name: cleaned_website_text, Length: 1375, dtype: object"
      ]
     },
     "execution_count": 14,
     "metadata": {},
     "output_type": "execute_result"
    }
   ],
   "source": [
    "text_df['cleaned_website_text']"
   ]
  },
  {
   "cell_type": "code",
   "execution_count": 15,
   "id": "203c2cb2",
   "metadata": {
    "execution": {
     "iopub.execute_input": "2021-11-29T07:49:43.234780Z",
     "iopub.status.busy": "2021-11-29T07:49:43.233580Z",
     "iopub.status.idle": "2021-11-29T07:49:43.239184Z",
     "shell.execute_reply": "2021-11-29T07:49:43.239678Z",
     "shell.execute_reply.started": "2021-11-29T07:36:43.805695Z"
    },
    "papermill": {
     "duration": 0.042874,
     "end_time": "2021-11-29T07:49:43.239888",
     "exception": false,
     "start_time": "2021-11-29T07:49:43.197014",
     "status": "completed"
    },
    "tags": []
   },
   "outputs": [],
   "source": [
    "def text_preprocessing(x):\n",
    "    filtered_sentence = []\n",
    "    word_tokens = word_tokenize(x)\n",
    "    \n",
    "    for w in word_tokens:\n",
    "        if w not in chain(stop_words, regular_punct):\n",
    "            # we make sure that all words are written in lowercase\n",
    "            filtered_sentence.append(w.lower())\n",
    "    \n",
    "    # Converting a list of strings back to a string\n",
    "    filtered_sentence = \" \".join(filtered_sentence)\n",
    "    return filtered_sentence"
   ]
  },
  {
   "cell_type": "code",
   "execution_count": 16,
   "id": "8df2bef6",
   "metadata": {
    "execution": {
     "iopub.execute_input": "2021-11-29T07:49:43.311478Z",
     "iopub.status.busy": "2021-11-29T07:49:43.310398Z",
     "iopub.status.idle": "2021-11-29T07:50:00.856950Z",
     "shell.execute_reply": "2021-11-29T07:50:00.856287Z",
     "shell.execute_reply.started": "2021-11-29T07:36:43.812943Z"
    },
    "papermill": {
     "duration": 17.583159,
     "end_time": "2021-11-29T07:50:00.857120",
     "exception": false,
     "start_time": "2021-11-29T07:49:43.273961",
     "status": "completed"
    },
    "tags": []
   },
   "outputs": [],
   "source": [
    "text_df['cleaned_website_text'] = text_df['cleaned_website_text'].apply(text_preprocessing)"
   ]
  },
  {
   "cell_type": "code",
   "execution_count": 17,
   "id": "585eded3",
   "metadata": {
    "execution": {
     "iopub.execute_input": "2021-11-29T07:50:00.935352Z",
     "iopub.status.busy": "2021-11-29T07:50:00.934486Z",
     "iopub.status.idle": "2021-11-29T07:50:00.937871Z",
     "shell.execute_reply": "2021-11-29T07:50:00.938610Z",
     "shell.execute_reply.started": "2021-11-29T07:37:01.356413Z"
    },
    "papermill": {
     "duration": 0.046834,
     "end_time": "2021-11-29T07:50:00.938878",
     "exception": false,
     "start_time": "2021-11-29T07:50:00.892044",
     "status": "completed"
    },
    "tags": []
   },
   "outputs": [
    {
     "data": {
      "text/plain": [
       "0       official site good hotel accommodation big sav...\n",
       "1       expedia hotel book sites like use vacation wor...\n",
       "2       tripadvisor hotel book sites like previously d...\n",
       "3       cheap flights search compare flights momondo f...\n",
       "4       bot create free account create free account si...\n",
       "                              ...                        \n",
       "1403    old nude women porn mature granny sex horny ol...\n",
       "1404    bdsm cams bdsm chat bondage cams free bdsm vid...\n",
       "1405    porno dvd online european porn dvd cheap adult...\n",
       "1406    anal dream house anal dream house anal dream h...\n",
       "1407    world sex news daily sex news adult news eroti...\n",
       "Name: cleaned_website_text, Length: 1375, dtype: object"
      ]
     },
     "execution_count": 17,
     "metadata": {},
     "output_type": "execute_result"
    }
   ],
   "source": [
    "text_df['cleaned_website_text']"
   ]
  },
  {
   "cell_type": "markdown",
   "id": "2c7b103d",
   "metadata": {
    "papermill": {
     "duration": 0.039486,
     "end_time": "2021-11-29T07:50:01.012853",
     "exception": false,
     "start_time": "2021-11-29T07:50:00.973367",
     "status": "completed"
    },
    "tags": []
   },
   "source": [
    "<h3>Preprocessing the data</h3>"
   ]
  },
  {
   "cell_type": "code",
   "execution_count": 18,
   "id": "9bd69000",
   "metadata": {
    "execution": {
     "iopub.execute_input": "2021-11-29T07:50:01.312482Z",
     "iopub.status.busy": "2021-11-29T07:50:01.311673Z",
     "iopub.status.idle": "2021-11-29T07:50:02.711274Z",
     "shell.execute_reply": "2021-11-29T07:50:02.710486Z",
     "shell.execute_reply.started": "2021-11-29T07:37:01.366281Z"
    },
    "papermill": {
     "duration": 1.437218,
     "end_time": "2021-11-29T07:50:02.711434",
     "exception": false,
     "start_time": "2021-11-29T07:50:01.274216",
     "status": "completed"
    },
    "tags": []
   },
   "outputs": [
    {
     "data": {
      "text/plain": [
       "(1375, 59995)"
      ]
     },
     "execution_count": 18,
     "metadata": {},
     "output_type": "execute_result"
    }
   ],
   "source": [
    "counts = feature_extraction.text.CountVectorizer()\n",
    "X = counts.fit_transform(text_df['cleaned_website_text'].values)\n",
    "X.shape"
   ]
  },
  {
   "cell_type": "code",
   "execution_count": 19,
   "id": "8cf05efc",
   "metadata": {
    "execution": {
     "iopub.execute_input": "2021-11-29T07:50:02.783544Z",
     "iopub.status.busy": "2021-11-29T07:50:02.782838Z",
     "iopub.status.idle": "2021-11-29T07:50:02.786065Z",
     "shell.execute_reply": "2021-11-29T07:50:02.785494Z",
     "shell.execute_reply.started": "2021-11-29T07:37:02.752597Z"
    },
    "papermill": {
     "duration": 0.041186,
     "end_time": "2021-11-29T07:50:02.786217",
     "exception": false,
     "start_time": "2021-11-29T07:50:02.745031",
     "status": "completed"
    },
    "tags": []
   },
   "outputs": [],
   "source": [
    "y = text_df['Category'].values"
   ]
  },
  {
   "cell_type": "markdown",
   "id": "314ad410",
   "metadata": {
    "papermill": {
     "duration": 0.035498,
     "end_time": "2021-11-29T07:50:02.855929",
     "exception": false,
     "start_time": "2021-11-29T07:50:02.820431",
     "status": "completed"
    },
    "tags": []
   },
   "source": [
    "<h4>Training a normal Bayes classifier</h4>"
   ]
  },
  {
   "cell_type": "code",
   "execution_count": 20,
   "id": "1eca3165",
   "metadata": {
    "execution": {
     "iopub.execute_input": "2021-11-29T07:50:02.928529Z",
     "iopub.status.busy": "2021-11-29T07:50:02.927794Z",
     "iopub.status.idle": "2021-11-29T07:50:02.937923Z",
     "shell.execute_reply": "2021-11-29T07:50:02.938511Z",
     "shell.execute_reply.started": "2021-11-29T07:37:02.758896Z"
    },
    "papermill": {
     "duration": 0.048947,
     "end_time": "2021-11-29T07:50:02.938714",
     "exception": false,
     "start_time": "2021-11-29T07:50:02.889767",
     "status": "completed"
    },
    "tags": []
   },
   "outputs": [],
   "source": [
    "X_train, X_test, y_train, y_test = ms.train_test_split(X, y, test_size=0.2, random_state=42)"
   ]
  },
  {
   "cell_type": "code",
   "execution_count": 21,
   "id": "465d2bee",
   "metadata": {
    "execution": {
     "iopub.execute_input": "2021-11-29T07:50:03.015082Z",
     "iopub.status.busy": "2021-11-29T07:50:03.014327Z",
     "iopub.status.idle": "2021-11-29T07:50:03.084958Z",
     "shell.execute_reply": "2021-11-29T07:50:03.085539Z",
     "shell.execute_reply.started": "2021-11-29T07:37:02.777901Z"
    },
    "papermill": {
     "duration": 0.112753,
     "end_time": "2021-11-29T07:50:03.085719",
     "exception": false,
     "start_time": "2021-11-29T07:50:02.972966",
     "status": "completed"
    },
    "tags": []
   },
   "outputs": [
    {
     "data": {
      "text/plain": [
       "MultinomialNB()"
      ]
     },
     "execution_count": 21,
     "metadata": {},
     "output_type": "execute_result"
    }
   ],
   "source": [
    "model_naive = naive_bayes.MultinomialNB()\n",
    "model_naive.fit(X_train, y_train)"
   ]
  },
  {
   "cell_type": "code",
   "execution_count": 22,
   "id": "e288ff94",
   "metadata": {
    "execution": {
     "iopub.execute_input": "2021-11-29T07:50:03.159111Z",
     "iopub.status.busy": "2021-11-29T07:50:03.158341Z",
     "iopub.status.idle": "2021-11-29T07:50:03.175763Z",
     "shell.execute_reply": "2021-11-29T07:50:03.176335Z",
     "shell.execute_reply.started": "2021-11-29T07:37:02.852088Z"
    },
    "papermill": {
     "duration": 0.056138,
     "end_time": "2021-11-29T07:50:03.176514",
     "exception": false,
     "start_time": "2021-11-29T07:50:03.120376",
     "status": "completed"
    },
    "tags": []
   },
   "outputs": [
    {
     "data": {
      "text/plain": [
       "0.980909090909091"
      ]
     },
     "execution_count": 22,
     "metadata": {},
     "output_type": "execute_result"
    }
   ],
   "source": [
    "model_naive.score(X_train, y_train)"
   ]
  },
  {
   "cell_type": "code",
   "execution_count": 23,
   "id": "2f3feaa8",
   "metadata": {
    "execution": {
     "iopub.execute_input": "2021-11-29T07:50:03.248121Z",
     "iopub.status.busy": "2021-11-29T07:50:03.247414Z",
     "iopub.status.idle": "2021-11-29T07:50:03.257812Z",
     "shell.execute_reply": "2021-11-29T07:50:03.258459Z",
     "shell.execute_reply.started": "2021-11-29T07:37:02.873472Z"
    },
    "papermill": {
     "duration": 0.048067,
     "end_time": "2021-11-29T07:50:03.258640",
     "exception": false,
     "start_time": "2021-11-29T07:50:03.210573",
     "status": "completed"
    },
    "tags": []
   },
   "outputs": [
    {
     "data": {
      "text/plain": [
       "0.88"
      ]
     },
     "execution_count": 23,
     "metadata": {},
     "output_type": "execute_result"
    }
   ],
   "source": [
    "model_naive.score(X_test, y_test)"
   ]
  },
  {
   "cell_type": "markdown",
   "id": "29a471b5",
   "metadata": {
    "papermill": {
     "duration": 0.035868,
     "end_time": "2021-11-29T07:50:03.404781",
     "exception": false,
     "start_time": "2021-11-29T07:50:03.368913",
     "status": "completed"
    },
    "tags": []
   },
   "source": [
    "<h4>Confusion matrix</h4>"
   ]
  },
  {
   "cell_type": "code",
   "execution_count": 24,
   "id": "b41ec39f",
   "metadata": {
    "execution": {
     "iopub.execute_input": "2021-11-29T07:50:03.483615Z",
     "iopub.status.busy": "2021-11-29T07:50:03.482856Z",
     "iopub.status.idle": "2021-11-29T07:50:03.495242Z",
     "shell.execute_reply": "2021-11-29T07:50:03.495776Z",
     "shell.execute_reply.started": "2021-11-29T07:37:02.888550Z"
    },
    "papermill": {
     "duration": 0.054143,
     "end_time": "2021-11-29T07:50:03.495986",
     "exception": false,
     "start_time": "2021-11-29T07:50:03.441843",
     "status": "completed"
    },
    "tags": []
   },
   "outputs": [
    {
     "data": {
      "text/plain": [
       "array([[ 1,  0,  0,  1,  0,  0,  0,  0,  0,  0,  3,  0,  0,  0,  0,  0],\n",
       "       [ 0, 12,  0,  1,  1,  0,  0,  0,  0,  1,  2,  2,  0,  0,  0,  0],\n",
       "       [ 0,  0, 11,  0,  1,  0,  0,  0,  0,  0,  0,  1,  0,  0,  0,  0],\n",
       "       [ 0,  0,  0, 25,  0,  0,  0,  0,  1,  0,  0,  0,  0,  0,  0,  0],\n",
       "       [ 0,  1,  0,  0, 20,  0,  0,  0,  0,  0,  0,  0,  0,  0,  0,  0],\n",
       "       [ 0,  0,  0,  0,  0, 25,  0,  0,  0,  0,  0,  0,  0,  0,  0,  1],\n",
       "       [ 0,  0,  0,  0,  0,  0,  0,  0,  0,  0,  1,  1,  0,  0,  1,  0],\n",
       "       [ 0,  0,  0,  0,  0,  0,  0, 15,  0,  0,  0,  0,  0,  1,  1,  0],\n",
       "       [ 0,  0,  0,  0,  0,  0,  0,  0, 15,  0,  0,  0,  0,  0,  0,  0],\n",
       "       [ 0,  0,  0,  0,  0,  0,  0,  0,  0, 24,  0,  0,  0,  0,  0,  0],\n",
       "       [ 0,  0,  0,  0,  0,  0,  0,  0,  0,  0, 18,  0,  0,  1,  0,  0],\n",
       "       [ 0,  0,  0,  0,  0,  0,  0,  0,  0,  0,  1, 15,  0,  0,  0,  0],\n",
       "       [ 0,  0,  1,  0,  1,  1,  0,  1,  0,  0,  0,  0,  6,  0,  1,  1],\n",
       "       [ 0,  0,  0,  0,  0,  0,  0,  0,  0,  0,  0,  0,  0, 22,  0,  0],\n",
       "       [ 0,  0,  1,  0,  0,  0,  0,  0,  0,  0,  1,  0,  0,  0, 14,  0],\n",
       "       [ 0,  0,  0,  0,  0,  0,  1,  0,  0,  0,  1,  0,  0,  0,  0, 19]],\n",
       "      dtype=int64)"
      ]
     },
     "execution_count": 24,
     "metadata": {},
     "output_type": "execute_result"
    }
   ],
   "source": [
    "confusion_matrix(y_test, model_naive.predict(X_test))"
   ]
  },
  {
   "cell_type": "code",
   "execution_count": 25,
   "id": "8256a851",
   "metadata": {
    "execution": {
     "iopub.execute_input": "2021-11-29T07:50:03.576050Z",
     "iopub.status.busy": "2021-11-29T07:50:03.575333Z",
     "iopub.status.idle": "2021-11-29T07:50:05.105287Z",
     "shell.execute_reply": "2021-11-29T07:50:05.105862Z",
     "shell.execute_reply.started": "2021-11-29T07:37:02.902445Z"
    },
    "papermill": {
     "duration": 1.570715,
     "end_time": "2021-11-29T07:50:05.106055",
     "exception": false,
     "start_time": "2021-11-29T07:50:03.535340",
     "status": "completed"
    },
    "tags": []
   },
   "outputs": [
    {
     "data": {
      "image/png": "[encoded data removed]",
      "text/plain": [
       "<Figure size 1800x1200 with 1 Axes>"
      ]
     },
     "metadata": {},
     "output_type": "display_data"
    }
   ],
   "source": [
    "mat = confusion_matrix(y_test, model_naive.predict(X_test))\n",
    "plt.figure(figsize=(18,12))\n",
    "sns.heatmap(mat.T, square=True, annot=True, fmt='d', cbar=False,\n",
    "            xticklabels=categories,\n",
    "            yticklabels=categories\n",
    "           )\n",
    "plt.xlabel('true label')\n",
    "plt.ylabel('predicted label');"
   ]
  }
 ],
 "metadata": {
  "kernelspec": {
   "display_name": "Python 3 (ipykernel)",
   "language": "python",
   "name": "python3"
  },
  "language_info": {
   "codemirror_mode": {
    "name": "ipython",
    "version": 3
   },
   "file_extension": ".py",
   "mimetype": "text/x-python",
   "name": "python",
   "nbconvert_exporter": "python",
   "pygments_lexer": "ipython3",
   "version": "3.9.13"
  },
  "papermill": {
   "default_parameters": {},
   "duration": 36.996521,
   "end_time": "2021-11-29T07:50:05.957426",
   "environment_variables": {},
   "exception": null,
   "input_path": "__notebook__.ipynb",
   "output_path": "__notebook__.ipynb",
   "parameters": {},
   "start_time": "2021-11-29T07:49:28.960905",
   "version": "2.3.3"
  }
 },
 "nbformat": 4,
 "nbformat_minor": 5
}
